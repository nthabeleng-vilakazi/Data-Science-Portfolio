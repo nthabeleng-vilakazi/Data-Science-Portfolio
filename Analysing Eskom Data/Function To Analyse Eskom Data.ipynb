{
 "metadata": {
  "language_info": {
   "codemirror_mode": {
    "name": "ipython",
    "version": 3
   },
   "file_extension": ".py",
   "mimetype": "text/x-python",
   "name": "python",
   "nbconvert_exporter": "python",
   "pygments_lexer": "ipython3",
   "version": "3.8.3-final"
  },
  "orig_nbformat": 2,
  "kernelspec": {
   "name": "python38332bit95cab9994d5d4ce8b2760e46dd966f88",
   "display_name": "Python 3.8.3 32-bit"
  }
 },
 "nbformat": 4,
 "nbformat_minor": 2,
 "cells": [
  {
   "cell_type": "markdown",
   "metadata": {},
   "source": [
    "Functions are important in reducing the replication of code as well as giving the user the functionality of getting an ouput on varying inputs. The functions below use Eskom data/variables.\n",
    "\n",
    "These functions are:\n",
    "\n",
    "Metric Dictionary\n",
    "Five Number Summary Dictionary\n",
    "Date Parser\n",
    "Hashtag & Municipality Remover\n",
    "Number of Tweets per Day\n",
    "Word Splitter\n",
    "Stopwords & Link Remover\n",
    "\n",
    "authors: Nthabeleng Vilakazi, Refiloe Phipha, Neliswe Mabanga, Jaganeth Chetty and Sevha Vukeya"
   ]
  },
  {
   "cell_type": "code",
   "execution_count": 1,
   "metadata": {},
   "outputs": [],
   "source": [
    "import numpy as np\n",
    "import pandas as pd"
   ]
  },
  {
   "cell_type": "code",
   "execution_count": 2,
   "metadata": {},
   "outputs": [],
   "source": [
    "\n",
    "url = 'https://raw.githubusercontent.com/RidhaMoosa/eskom_data-/master/electrification_by_province.csv'\n",
    "ebp = pd.read_csv(url)\n",
    "\n",
    "for col, row in ebp.iloc[:,1:].iteritems():\n",
    "    ebp[col] = ebp[col].str.replace(',','').astype(int)\n",
    "\n",
    "limpopo = ebp['Limpopo'].to_list()\n",
    "limpopo = [float(x) for x in limpopo]\n",
    "\n",
    "mpumalanga = ebp['Mpumalanga'].to_list()\n",
    "mpumalanga = [float(x) for x in mpumalanga]\n",
    "\n",
    "north_west = ebp['North west'].to_list()\n",
    "north_west = [float(x) for x in north_west]\n",
    "\n",
    "free_state = ebp['Free State'].to_list()\n",
    "free_state = [float(x) for x in free_state]\n",
    "\n",
    "kwazulu_natal = ebp['Kwazulu Natal'].to_list()\n",
    "kwazulu_natal = [float(x) for x in kwazulu_natal]\n",
    "\n",
    "eastern_cape = ebp['Eastern Cape'].to_list()\n",
    "eastern_cape = [float(x) for x in eastern_cape]\n",
    "\n",
    "western_cape = ebp['Western Cape'].to_list()\n",
    "western_cape = [float(x) for x in western_cape]\n",
    "\n",
    "northern_cape = ebp['Northern Cape'].to_list()\n",
    "northern_cape = [float(x) for x in northern_cape]\n",
    "\n",
    "gauteng = ebp['Gauteng'].to_list()\n",
    "gauteng = [float(x) for x in gauteng]"
   ]
  },
  {
   "cell_type": "code",
   "execution_count": 3,
   "metadata": {},
   "outputs": [],
   "source": [
    "url = 'https://raw.githubusercontent.com/RidhaMoosa/eskom_data-/master/twitter_nov_2019.csv'\n",
    "twitter_df = pd.read_csv(url)\n",
    "\n",
    "dates = twitter_df['Date'].to_list()"
   ]
  },
  {
   "cell_type": "markdown",
   "metadata": {},
   "source": [
    "# Function 1: Metric Dictionary\n",
    "Function takes in a list of integers and returns a dictionary of the mean, median, variance, standard deviation, min and max. \n",
    "\n",
    "Expected Output:\n",
    "\n",
    "gauteng = [39660.0,\n",
    "            36024.0,\n",
    "            32127.0,\n",
    "            39488.0,\n",
    "            18422.0,\n",
    "            23532.0,\n",
    "            8842.0,\n",
    "            37416.0,\n",
    "            16156.0,\n",
    "            18730.0,\n",
    "            19261.0,\n",
    "            25275.0]\n",
    "\n",
    "dictionary_of_metrics(gauteng) == {'mean': 26244.42,\n",
    "                                   'median': 24403.5,\n",
    "                                   'variance': 108160153.17,\n",
    "                                   'standard deviation': 10400.01,\n",
    "                                   'min': 8842.0,\n",
    "                                   'max': 39660.0}"
   ]
  },
  {
   "cell_type": "code",
   "execution_count": 4,
   "metadata": {},
   "outputs": [
    {
     "output_type": "execute_result",
     "data": {
      "text/plain": "{'mean': 26244.416666666668,\n 'median': 24403.5,\n 'variance': 108160153.1742424,\n 'standard deviation': 10400.007364143663,\n 'min': 8842.0,\n 'max': 39660.0}"
     },
     "metadata": {},
     "execution_count": 4
    }
   ],
   "source": [
    "def dictionary_of_metrics(items):\n",
    "    # calculating mean\n",
    "    total = 0\n",
    "    for i in items:\n",
    "        total += i\n",
    "    mean = total/len(items)\n",
    "    \n",
    "    # maximum\n",
    "    maximum = items[0]\n",
    "    for i in items:\n",
    "        if i > maximum:\n",
    "            maximum = i\n",
    "    \n",
    "    # minimum\n",
    "    minimum = items[0]\n",
    "    for i in items:\n",
    "        if i < minimum:\n",
    "            minimum = i\n",
    "    \n",
    "    #median\n",
    "    for i in range(len(items)):\n",
    "        for k in range(len(items)-i-1):\n",
    "            if items[k]>items[k+1]:\n",
    "                items[k],items[k+1] = items[k+1],items[k]\n",
    "     \n",
    "    index_median = int((len(items)+1)/2)\n",
    "    if len(items)%2 == 0:\n",
    "        median = (items[index_median]+items[index_median-1])/2\n",
    "    else:\n",
    "        median = items[index_median]\n",
    "    \n",
    "    #variance\n",
    "    some = 0\n",
    "    for i in items:\n",
    "        whole = (i-mean)**2\n",
    "        some += whole\n",
    "    var = some/(len(items)-1)\n",
    "    \n",
    "    #standard deviation\n",
    "    std = var**0.5\n",
    "    \n",
    "    dict_word = {'mean':mean,\n",
    "                 'median' : median,\n",
    "                 'variance' :var,\n",
    "                 'standard deviation': std,\n",
    "                 'min': minimum,\n",
    "                 'max': maximum\n",
    "                 }\n",
    "    return dict_word\n",
    "dictionary_of_metrics(gauteng)"
   ]
  },
  {
   "cell_type": "markdown",
   "metadata": {},
   "source": [
    "# Function 2: Five Number Summary\n",
    "This function  takes in a list of integers and returns a dictionary of the five number summary.\n",
    "\n",
    "Expected Output:\n",
    "\n",
    "gauteng = [39660.0,\n",
    "            36024.0,\n",
    "            32127.0,\n",
    "            39488.0,\n",
    "            18422.0,\n",
    "            23532.0,\n",
    "            8842.0,\n",
    "            37416.0,\n",
    "            16156.0,\n",
    "            18730.0,\n",
    "            19261.0,\n",
    "            25275.0]\n",
    "\n",
    "five_num_summ(gauteng) == {'max': 39660.0,\n",
    "                           'median': 24403.5,\n",
    "                           'min': 8842.0,\n",
    "                           'q1': 18422.5,\n",
    "                           'q3': 36024.5}"
   ]
  },
  {
   "cell_type": "code",
   "execution_count": 5,
   "metadata": {},
   "outputs": [],
   "source": [
    "\n",
    "def five_num_summ(items):\n",
    "\n",
    "  print(items)\n",
    "\n",
    "  pass"
   ]
  },
  {
   "cell_type": "code",
   "execution_count": 6,
   "metadata": {},
   "outputs": [],
   "source": [
    "import numpy as np\n",
    "def five_num_summary(items):\n",
    "    \n",
    "    \"\"\" Calculate the max, median, min, first quantile(q1) and third quartile(q300 values\n",
    "        Args:\n",
    "            takes in a list object containing numerical values floats and int number to calculate and return the max, median, min, first quantile and the third quantile.\n",
    "            \n",
    "        Returns:\n",
    "             returns a dictionary with the keys and their values as calculated\n",
    "    \"\"\"\n",
    "\n",
    "    return {\"max\": np.max(items), \"median\": np.median(items), \"min\": np.min(items), \"q1\": np.percentile(items,25), \"q3\": np.percentile(items,75)}"
   ]
  },
  {
   "cell_type": "code",
   "execution_count": null,
   "metadata": {},
   "outputs": [],
   "source": []
  }
 ]
}
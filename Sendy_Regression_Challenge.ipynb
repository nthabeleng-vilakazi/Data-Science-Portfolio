{
  "nbformat": 4,
  "nbformat_minor": 0,
  "metadata": {
    "orig_nbformat": 2,
    "colab": {
      "name": "Copy of Sendy Regression Challenge.ipynb",
      "provenance": [],
      "include_colab_link": true
    },
    "kernelspec": {
      "name": "python3",
      "display_name": "Python 3"
    }
  },
  "cells": [
    {
      "cell_type": "markdown",
      "metadata": {
        "id": "view-in-github",
        "colab_type": "text"
      },
      "source": [
        "<a href=\"https://colab.research.google.com/github/nthabeleng-vilakazi/Data-Science-Portfolio/blob/master/Sendy_Regression_Challenge.ipynb\" target=\"_parent\"><img src=\"https://colab.research.google.com/assets/colab-badge.svg\" alt=\"Open In Colab\"/></a>"
      ]
    },
    {
      "cell_type": "markdown",
      "metadata": {
        "id": "j_nO7DG7IOyH",
        "colab_type": "text"
      },
      "source": [
        "**Team Members:** Nthabeleng Vilakazi, Nyandala Ramaru, Refiloe Elvis Phipa, Thabo Mahlangu, Lizette Loubser  "
      ]
    },
    {
      "cell_type": "markdown",
      "metadata": {
        "id": "Kkrqo1_rIKUH",
        "colab_type": "text"
      },
      "source": [
        "### Table of Contents\n",
        "---\n",
        "1. [Introduction](#intro)\n",
        " * Project Description\n",
        " * Problem Statement\n",
        " * Datasets and Variables\n",
        "---\n",
        "2. [Load Dependencies](#imports)\n",
        "---\n",
        "3. [Data Cleaning](#data)\n",
        " * Load Data\n",
        " * Merge Datasets\n",
        " * Handle Missing Data\n",
        " * Remove Target Outliers\n",
        "---\n",
        "4. [Exploratory Data Analysis](#EDA)\n",
        " * Data Summary Statistics\n",
        " * Univariate Analysis and Visualisation\n",
        " * Bivariate Analysis and Visualisation\n",
        " * Map Visualisation\n",
        "---\n",
        "5. [Data Preprocessing](#preprocessing) \n",
        " * Feature Engineering\n",
        " * Encoding Categorical Data\n",
        " * Split Training Set Into Training and Validation Sets\n",
        " * Feature Scaling\n",
        " * Feature Selection\n",
        "\n",
        "---\n",
        "6. [Modelling](#modelling)\n",
        " * Linear Regression\n",
        " * Multiple Linear Regression\n",
        " * Polynomial Regression\n",
        " * Support Vector Regression\n",
        " * Random Forest Regression\n",
        " * Lasso Regression\n",
        " * Ridge Regression\n",
        " * CatBoost Regression\n",
        " * XGBoost Regression\n",
        " * LightGBM Regression\n",
        "---\n",
        "7. [Performance Evaluation](#evaluation)\n",
        " * Compare Models on Performance Metrics\n",
        " * Evaluate Best Models by Cross Validation\n",
        " * Hyperparameter Tuning on Best Models\n",
        " * Feature Importance of Best Models\n",
        "---\n",
        "8. [Model Analysis](#analysis)\n",
        "---\n",
        "9. [Conclusion](#conclusion)\n",
        "---\n",
        "10. [Save Model and Output](#save)"
      ]
    }
  ]
}